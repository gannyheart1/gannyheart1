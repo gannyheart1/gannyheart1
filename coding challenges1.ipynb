{
 "cells": [
  {
   "cell_type": "code",
   "execution_count": 5,
   "id": "b958639e",
   "metadata": {},
   "outputs": [
    {
     "name": "stdout",
     "output_type": "stream",
     "text": [
      "0\n",
      "2\n",
      "4\n",
      "6\n",
      "8\n",
      "10\n",
      "12\n",
      "14\n",
      "16\n",
      "18\n",
      "20\n"
     ]
    }
   ],
   "source": [
    "#challenge1\n",
    "a = 0\n",
    "while a<=20:\n",
    "    print(a)\n",
    "    a+=2"
   ]
  },
  {
   "cell_type": "markdown",
   "id": "419d4856",
   "metadata": {},
   "source": [
    "challenge 2) Allow the user to enter a string, and then print out each letter in the string\n",
    "one at a time on a separate line.\n"
   ]
  },
  {
   "cell_type": "code",
   "execution_count": 1,
   "id": "f4be7643",
   "metadata": {},
   "outputs": [
    {
     "name": "stdout",
     "output_type": "stream",
     "text": [
      "enter a string: university\n",
      "u\n",
      "n\n",
      "i\n",
      "v\n",
      "e\n",
      "r\n",
      "s\n",
      "i\n",
      "t\n",
      "y\n"
     ]
    }
   ],
   "source": [
    "x = input('enter a string: ')\n",
    "for tinz in x:\n",
    "    print(tinz)"
   ]
  },
  {
   "cell_type": "markdown",
   "id": "d53d9eb8",
   "metadata": {},
   "source": [
    "challenge 3) As above, but print out the letters in the string in reverse order.\n"
   ]
  },
  {
   "cell_type": "code",
   "execution_count": 1,
   "id": "7598dc3d",
   "metadata": {},
   "outputs": [
    {
     "name": "stdout",
     "output_type": "stream",
     "text": [
      "enter a string: universities\n",
      "seitisrevinu\n"
     ]
    }
   ],
   "source": [
    "x = input('enter a string: ')\n",
    "#for thngs in x:\n",
    "print(x[::-1])\n",
    "\n",
    "  "
   ]
  },
  {
   "cell_type": "markdown",
   "id": "68cc76a3",
   "metadata": {},
   "source": [
    "challenge 4) Starting with the initial value 0 and 1, generate a Fibonacci sequence.\n",
    "Each element in a Fibonacci sequence is the sum of the two previous\n",
    "elements e.g. 0, 1, 1, 2, 3, 5, 8 …… Allow the user to specify how many\n",
    "elements should be generated.\n"
   ]
  },
  {
   "cell_type": "code",
   "execution_count": 4,
   "id": "1f4b7a7e",
   "metadata": {},
   "outputs": [
    {
     "name": "stdout",
     "output_type": "stream",
     "text": [
      "0\n",
      "1\n",
      "1\n",
      "2\n",
      "3\n",
      "5\n"
     ]
    }
   ],
   "source": [
    "def fibo(n):\n",
    "    a = 0\n",
    "    b = 1\n",
    "    for i in range (0,n):\n",
    "        temp = a\n",
    "        a = b\n",
    "        b = temp + a\n",
    "    return a\n",
    "for c in range (0,6):\n",
    "    #c = int(input('enter any number:'))\n",
    "    print(fibo(c))\n",
    "    "
   ]
  },
  {
   "cell_type": "markdown",
   "id": "e4d79035",
   "metadata": {},
   "source": [
    "1) Allow the user to enter a number. Use an if statement to display whether\n",
    "the number is negative, equal to zero or positive."
   ]
  },
  {
   "cell_type": "code",
   "execution_count": 8,
   "id": "c00c0542",
   "metadata": {},
   "outputs": [
    {
     "name": "stdout",
     "output_type": "stream",
     "text": [
      "enter any number: 7\n",
      "7 is a positive integer\n"
     ]
    }
   ],
   "source": [
    "user = int(input('enter any number: '))\n",
    "if user < 0:\n",
    "    print(user, 'is a negative integer')\n",
    "elif user == 0:\n",
    "    print(user, 'is equal to zero')\n",
    "else:\n",
    "    print(user, 'is a positive integer')"
   ]
  },
  {
   "cell_type": "markdown",
   "id": "d8c19fa7",
   "metadata": {},
   "source": [
    "questn 2) The range() function can be used to create a sequence of numbers (see\n",
    "the code examples for this). Allow the user to enter a number and then\n",
    "iterate over the range to determine whether the number the user entered\n",
    "is present in the sequence"
   ]
  },
  {
   "cell_type": "code",
   "execution_count": 15,
   "id": "9e7bbaf6",
   "metadata": {},
   "outputs": [
    {
     "name": "stdout",
     "output_type": "stream",
     "text": [
      "enter any number: 5\n",
      "0\n",
      "1\n",
      "2\n",
      "3\n",
      "4\n"
     ]
    }
   ],
   "source": [
    "seq = int(input('enter any number: '))\n",
    "for numbers in range (seq):\n",
    "    print(numbers)"
   ]
  },
  {
   "cell_type": "markdown",
   "id": "afdaced5",
   "metadata": {},
   "source": [
    "An arithmetic series of numbers is defined by an initial value and a\n",
    "common difference. For example, if the starting value is 2 and the\n",
    "common difference is 3, the arithmetic sequence would begin 2, 5, 8, 11,\n",
    "14… Allow the user to enter values for the initial value and common\n",
    "difference. Write code to determine the sum of the first 10 elements in the\n",
    "arithmetic sequence."
   ]
  },
  {
   "cell_type": "code",
   "execution_count": 36,
   "id": "0fdaecda",
   "metadata": {},
   "outputs": [
    {
     "data": {
      "text/plain": [
       "5"
      ]
     },
     "execution_count": 36,
     "metadata": {},
     "output_type": "execute_result"
    }
   ],
   "source": [
    "def series(i,c):\n",
    "    Aseq = i + c\n",
    "    \n",
    "    return (Aseq)\n",
    "    seq = seq+c\n",
    "series(2,3)"
   ]
  },
  {
   "cell_type": "markdown",
   "id": "a8a9d6b4",
   "metadata": {},
   "source": [
    "Questn 4 part 2) Write code to simulate the simple children’s game “Fuzz Buzz”. The rules\n",
    "are simple; start counting upwards from 1 in single increments. If the\n",
    "number is divisible by 5, display “Fuzz”. if the number is divisible by 6,\n",
    "display “Buzz”. If the number is divisible by both, display “Fuzz Buzz”.\n",
    "Otherwise just display the number. Play the game from 1 through to 50"
   ]
  },
  {
   "cell_type": "code",
   "execution_count": 40,
   "id": "bd2023c8",
   "metadata": {},
   "outputs": [
    {
     "name": "stdout",
     "output_type": "stream",
     "text": [
      "1\n",
      "2\n",
      "3\n",
      "4\n",
      "Fuzz\n",
      "Buzz\n",
      "7\n",
      "8\n",
      "9\n",
      "Fuzz\n",
      "11\n",
      "Buzz\n",
      "13\n",
      "14\n",
      "Fuzz\n",
      "16\n",
      "17\n",
      "Buzz\n",
      "19\n",
      "Fuzz\n",
      "21\n",
      "22\n",
      "23\n",
      "Buzz\n",
      "Fuzz\n",
      "26\n",
      "27\n",
      "28\n",
      "29\n",
      "Fuzz\n",
      "31\n",
      "32\n",
      "33\n",
      "34\n",
      "Fuzz\n",
      "Buzz\n",
      "37\n",
      "38\n",
      "39\n",
      "Fuzz\n",
      "41\n",
      "Buzz\n",
      "43\n",
      "44\n",
      "Fuzz\n",
      "46\n",
      "47\n",
      "Buzz\n",
      "49\n",
      "Fuzz\n"
     ]
    }
   ],
   "source": [
    "for i in range (1,51):\n",
    "    if i%5 == 0:\n",
    "        print('Fuzz')\n",
    "    elif i%6 == 0:\n",
    "        print('Buzz')\n",
    "    elif (i%5==0) and (i%6 == 0):\n",
    "        print('FuzzBuzz')\n",
    "    else:\n",
    "        print(i)"
   ]
  },
  {
   "cell_type": "code",
   "execution_count": null,
   "id": "4698bbef",
   "metadata": {},
   "outputs": [],
   "source": []
  }
 ],
 "metadata": {
  "kernelspec": {
   "display_name": "Python 3 (ipykernel)",
   "language": "python",
   "name": "python3"
  },
  "language_info": {
   "codemirror_mode": {
    "name": "ipython",
    "version": 3
   },
   "file_extension": ".py",
   "mimetype": "text/x-python",
   "name": "python",
   "nbconvert_exporter": "python",
   "pygments_lexer": "ipython3",
   "version": "3.9.12"
  }
 },
 "nbformat": 4,
 "nbformat_minor": 5
}
